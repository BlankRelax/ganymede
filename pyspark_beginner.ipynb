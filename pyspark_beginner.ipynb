{
  "nbformat": 4,
  "nbformat_minor": 0,
  "metadata": {
    "colab": {
      "provenance": [],
      "authorship_tag": "ABX9TyPgGU98LpYsNR+eP2uNr5ao"
    },
    "kernelspec": {
      "name": "python3",
      "display_name": "Python 3"
    },
    "language_info": {
      "name": "python"
    }
  },
  "cells": [
    {
      "cell_type": "code",
      "execution_count": 1,
      "metadata": {
        "colab": {
          "base_uri": "https://localhost:8080/",
          "height": 777
        },
        "id": "I2KcLar8LAhj",
        "outputId": "5df2fd68-643c-440a-cbd7-0f9f9943e315"
      },
      "outputs": [
        {
          "output_type": "stream",
          "name": "stdout",
          "text": [
            "\u001b[33m\r0% [Working]\u001b[0m\r            \rGet:1 https://cloud.r-project.org/bin/linux/ubuntu jammy-cran40/ InRelease [3,632 B]\n",
            "Get:2 https://developer.download.nvidia.com/compute/cuda/repos/ubuntu2204/x86_64  InRelease [1,581 B]\n",
            "Get:3 https://cloud.r-project.org/bin/linux/ubuntu jammy-cran40/ Packages [66.7 kB]\n",
            "Get:4 http://security.ubuntu.com/ubuntu jammy-security InRelease [129 kB]\n",
            "Get:5 https://developer.download.nvidia.com/compute/cuda/repos/ubuntu2204/x86_64  Packages [1,311 kB]\n",
            "Hit:6 http://archive.ubuntu.com/ubuntu jammy InRelease\n",
            "Get:7 http://archive.ubuntu.com/ubuntu jammy-updates InRelease [128 kB]\n",
            "Hit:8 https://ppa.launchpadcontent.net/deadsnakes/ppa/ubuntu jammy InRelease\n",
            "Get:9 https://r2u.stat.illinois.edu/ubuntu jammy InRelease [6,555 B]\n",
            "Get:10 http://security.ubuntu.com/ubuntu jammy-security/main amd64 Packages [2,606 kB]\n",
            "Get:11 https://ppa.launchpadcontent.net/graphics-drivers/ppa/ubuntu jammy InRelease [24.3 kB]\n",
            "Get:12 https://r2u.stat.illinois.edu/ubuntu jammy/main all Packages [8,663 kB]\n",
            "Hit:13 https://ppa.launchpadcontent.net/ubuntugis/ppa/ubuntu jammy InRelease\n",
            "Get:14 http://archive.ubuntu.com/ubuntu jammy-backports InRelease [127 kB]\n",
            "Get:15 https://ppa.launchpadcontent.net/graphics-drivers/ppa/ubuntu jammy/main amd64 Packages [57.8 kB]\n",
            "Get:16 http://archive.ubuntu.com/ubuntu jammy-updates/universe amd64 Packages [1,526 kB]\n",
            "Get:17 http://security.ubuntu.com/ubuntu jammy-security/universe amd64 Packages [1,230 kB]\n",
            "Get:18 http://archive.ubuntu.com/ubuntu jammy-updates/restricted amd64 Packages [3,748 kB]\n",
            "Get:19 http://archive.ubuntu.com/ubuntu jammy-updates/main amd64 Packages [2,911 kB]\n",
            "Get:20 https://r2u.stat.illinois.edu/ubuntu jammy/main amd64 Packages [2,653 kB]\n",
            "Fetched 25.2 MB in 17s (1,515 kB/s)\n",
            "Reading package lists... Done\n",
            "Building dependency tree... Done\n",
            "Reading state information... Done\n",
            "24 packages can be upgraded. Run 'apt list --upgradable' to see them.\n",
            "\u001b[1;33mW: \u001b[0mSkipping acquire of configured file 'main/source/Sources' as repository 'https://r2u.stat.illinois.edu/ubuntu jammy InRelease' does not seem to provide it (sources.list entry misspelt?)\u001b[0m\n",
            "tar: spark-3.2.1-bin-hadoop3.2.tgz: Cannot open: No such file or directory\n",
            "tar: Error is not recoverable: exiting now\n",
            "Requirement already satisfied: pyspark in /usr/local/lib/python3.11/dist-packages (3.5.4)\n",
            "Requirement already satisfied: py4j==0.10.9.7 in /usr/local/lib/python3.11/dist-packages (from pyspark) (0.10.9.7)\n",
            "Requirement already satisfied: py4j in /usr/local/lib/python3.11/dist-packages (0.10.9.7)\n"
          ]
        },
        {
          "output_type": "execute_result",
          "data": {
            "text/plain": [
              "<pyspark.sql.session.SparkSession at 0x7a8199eecd10>"
            ],
            "text/html": [
              "\n",
              "            <div>\n",
              "                <p><b>SparkSession - in-memory</b></p>\n",
              "                \n",
              "        <div>\n",
              "            <p><b>SparkContext</b></p>\n",
              "\n",
              "            <p><a href=\"http://53b7165d9c9b:4040\">Spark UI</a></p>\n",
              "\n",
              "            <dl>\n",
              "              <dt>Version</dt>\n",
              "                <dd><code>v3.5.4</code></dd>\n",
              "              <dt>Master</dt>\n",
              "                <dd><code>local[*]</code></dd>\n",
              "              <dt>AppName</dt>\n",
              "                <dd><code>PySpark Challenge</code></dd>\n",
              "            </dl>\n",
              "        </div>\n",
              "        \n",
              "            </div>\n",
              "        "
            ]
          },
          "metadata": {},
          "execution_count": 1
        }
      ],
      "source": [
        "!sudo apt update\n",
        "!apt-get install openjdk-8-jdk-headless -qq > /dev/null\n",
        "#Check this site for the latest download link https://www.apache.org/dyn/closer.lua/spark/spark-3.2.1/spark-3.2.1-bin-hadoop3.2.tgz\n",
        "!wget -q https://dlcdn.apache.org/spark/spark-3.2.1/spark-3.2.1-bin-hadoop3.2.tgz\n",
        "!tar xf spark-3.2.1-bin-hadoop3.2.tgz\n",
        "!pip install -q findspark\n",
        "!pip install pyspark\n",
        "!pip install py4j\n",
        "\n",
        "\n",
        "import os\n",
        "import sys\n",
        "# os.environ[\"JAVA_HOME\"] = \"/usr/lib/jvm/java-8-openjdk-amd64\"\n",
        "# os.environ[\"SPARK_HOME\"] = \"/content/spark-3.2.1-bin-hadoop3.2\"\n",
        "\n",
        "import findspark\n",
        "findspark.init()\n",
        "findspark.find()\n",
        "\n",
        "import pyspark\n",
        "\n",
        "from pyspark.sql import DataFrame, SparkSession\n",
        "from typing import List\n",
        "import pyspark.sql.types as T\n",
        "import pyspark.sql.functions as F\n",
        "from pyspark.sql.functions import col, when\n",
        "from pyspark.sql.functions import concat\n",
        "\n",
        "\n",
        "spark= SparkSession \\\n",
        "       .builder \\\n",
        "       .appName(\"PySpark Challenge\") \\\n",
        "       .getOrCreate()\n",
        "\n",
        "spark"
      ]
    },
    {
      "cell_type": "markdown",
      "source": [
        "# New section"
      ],
      "metadata": {
        "id": "Zb3vNl5bMPAX"
      }
    },
    {
      "cell_type": "code",
      "source": [
        "data = [\n",
        "    (\"Alice\", \"Sales\", 1000),\n",
        "    (\"Bob\", \"Sales\", 1500),\n",
        "    (\"Charlie\", \"HR\", 1200),\n",
        "    (\"David\", \"HR\", 800),\n",
        "    (\"Eve\", \"IT\", 2000),\n",
        "    (\"Frank\", \"IT\", 2200),\n",
        "    (\"Jim\", \"ATA\", 1300),\n",
        "    (\"Millie\", \"Finance\", 2300),\n",
        "    (\"Samantha\", \"Sales\", 1000)\n",
        "]\n",
        "\n",
        "#define schema\n",
        "columns = [\"Name\", \"Department\", \"Salary\"]\n",
        "\n",
        "employee_df = spark.createDataFrame(data = data, schema= columns)\n",
        "employee_df.show()"
      ],
      "metadata": {
        "colab": {
          "base_uri": "https://localhost:8080/"
        },
        "id": "pXpCwHVFOPq3",
        "outputId": "439f7453-4a63-44cd-b4df-3dca1bb1f80c"
      },
      "execution_count": 2,
      "outputs": [
        {
          "output_type": "stream",
          "name": "stdout",
          "text": [
            "+--------+----------+------+\n",
            "|    Name|Department|Salary|\n",
            "+--------+----------+------+\n",
            "|   Alice|     Sales|  1000|\n",
            "|     Bob|     Sales|  1500|\n",
            "| Charlie|        HR|  1200|\n",
            "|   David|        HR|   800|\n",
            "|     Eve|        IT|  2000|\n",
            "|   Frank|        IT|  2200|\n",
            "|     Jim|       ATA|  1300|\n",
            "|  Millie|   Finance|  2300|\n",
            "|Samantha|     Sales|  1000|\n",
            "+--------+----------+------+\n",
            "\n"
          ]
        }
      ]
    },
    {
      "cell_type": "code",
      "source": [
        "# select name and dep\n",
        "name_dep_df = employee_df.select('Name', 'Department')\n",
        "name_dep_df.show()"
      ],
      "metadata": {
        "colab": {
          "base_uri": "https://localhost:8080/"
        },
        "id": "Xn3FDx01Tswv",
        "outputId": "68d61d21-2133-4060-e2c9-d0ee48a5d480"
      },
      "execution_count": 4,
      "outputs": [
        {
          "output_type": "stream",
          "name": "stdout",
          "text": [
            "+--------+----------+\n",
            "|    Name|Department|\n",
            "+--------+----------+\n",
            "|   Alice|     Sales|\n",
            "|     Bob|     Sales|\n",
            "| Charlie|        HR|\n",
            "|   David|        HR|\n",
            "|     Eve|        IT|\n",
            "|   Frank|        IT|\n",
            "|     Jim|       ATA|\n",
            "|  Millie|   Finance|\n",
            "|Samantha|     Sales|\n",
            "+--------+----------+\n",
            "\n"
          ]
        }
      ]
    },
    {
      "cell_type": "code",
      "source": [
        "finance_dep_df = name_dep_df.filter(name_dep_df[\"Department\"]=='Finance')\n",
        "finance_dep_df.show()"
      ],
      "metadata": {
        "colab": {
          "base_uri": "https://localhost:8080/"
        },
        "id": "zE2YOTvCUxPX",
        "outputId": "6e8e2de0-3bba-4fc9-f628-a6a831c13cd8"
      },
      "execution_count": 5,
      "outputs": [
        {
          "output_type": "stream",
          "name": "stdout",
          "text": [
            "+------+----------+\n",
            "|  Name|Department|\n",
            "+------+----------+\n",
            "|Millie|   Finance|\n",
            "+------+----------+\n",
            "\n"
          ]
        }
      ]
    },
    {
      "cell_type": "code",
      "source": [
        "high_salary_df = employee_df.filter(employee_df['Salary']>1100)\n",
        "high_salary_df.show()"
      ],
      "metadata": {
        "colab": {
          "base_uri": "https://localhost:8080/"
        },
        "id": "dfnQdAsPYM6o",
        "outputId": "8e381aa4-b9bc-4f02-db1d-863cf146818b"
      },
      "execution_count": 6,
      "outputs": [
        {
          "output_type": "stream",
          "name": "stdout",
          "text": [
            "+-------+----------+------+\n",
            "|   Name|Department|Salary|\n",
            "+-------+----------+------+\n",
            "|    Bob|     Sales|  1500|\n",
            "|Charlie|        HR|  1200|\n",
            "|    Eve|        IT|  2000|\n",
            "|  Frank|        IT|  2200|\n",
            "|    Jim|       ATA|  1300|\n",
            "| Millie|   Finance|  2300|\n",
            "+-------+----------+------+\n",
            "\n"
          ]
        }
      ]
    },
    {
      "cell_type": "code",
      "source": [
        "non_it_df = employee_df.filter(~(employee_df[\"Department\"]==\"IT\"))\n",
        "non_it_df.show()\n"
      ],
      "metadata": {
        "colab": {
          "base_uri": "https://localhost:8080/"
        },
        "id": "ckMgD92PYq-4",
        "outputId": "f2b227f7-dcd6-448e-c13e-2d7acb9ab11f"
      },
      "execution_count": 8,
      "outputs": [
        {
          "output_type": "stream",
          "name": "stdout",
          "text": [
            "+--------+----------+------+\n",
            "|    Name|Department|Salary|\n",
            "+--------+----------+------+\n",
            "|   Alice|     Sales|  1000|\n",
            "|     Bob|     Sales|  1500|\n",
            "| Charlie|        HR|  1200|\n",
            "|   David|        HR|   800|\n",
            "|     Jim|       ATA|  1300|\n",
            "|  Millie|   Finance|  2300|\n",
            "|Samantha|     Sales|  1000|\n",
            "+--------+----------+------+\n",
            "\n"
          ]
        }
      ]
    },
    {
      "cell_type": "code",
      "source": [
        "total_salary_per_department = employee_df.groupBy('Department').sum(\"Salary\").withColumnRenamed(\"sum(Salary)\", \"Total Salary\")\n",
        "total_salary_per_department.show()"
      ],
      "metadata": {
        "colab": {
          "base_uri": "https://localhost:8080/"
        },
        "id": "2L8snGwxZb3h",
        "outputId": "80f287e3-ddc6-4ce2-e682-97880d874da8"
      },
      "execution_count": 10,
      "outputs": [
        {
          "output_type": "stream",
          "name": "stdout",
          "text": [
            "+----------+------------+\n",
            "|Department|Total Salary|\n",
            "+----------+------------+\n",
            "|     Sales|        3500|\n",
            "|        HR|        2000|\n",
            "|   Finance|        2300|\n",
            "|        IT|        4200|\n",
            "|       ATA|        1300|\n",
            "+----------+------------+\n",
            "\n"
          ]
        }
      ]
    },
    {
      "cell_type": "code",
      "source": [
        "num_of_employees_per_department = employee_df.groupBy(\"Department\").count().withColumnRenamed(\"count\", \"Number of Employees\")\n",
        "num_of_employees_per_department.show()\n"
      ],
      "metadata": {
        "colab": {
          "base_uri": "https://localhost:8080/"
        },
        "id": "cUpJw46qaXf5",
        "outputId": "a710ce35-7917-4cbd-945b-b48a6526c085"
      },
      "execution_count": 12,
      "outputs": [
        {
          "output_type": "stream",
          "name": "stdout",
          "text": [
            "+----------+-------------------+\n",
            "|Department|Number of Employees|\n",
            "+----------+-------------------+\n",
            "|     Sales|                  3|\n",
            "|        HR|                  2|\n",
            "|   Finance|                  1|\n",
            "|        IT|                  2|\n",
            "|       ATA|                  1|\n",
            "+----------+-------------------+\n",
            "\n"
          ]
        }
      ]
    },
    {
      "cell_type": "code",
      "source": [
        "employees_with_bonus_df = employee_df.withColumn(\"Salary with Bonus\", employee_df['Salary']*1.3)\n",
        "employees_with_bonus_df.show()"
      ],
      "metadata": {
        "colab": {
          "base_uri": "https://localhost:8080/"
        },
        "id": "ny47Sr3kbRuB",
        "outputId": "33705f7c-12fd-4cc4-e166-219b9cbd8a86"
      },
      "execution_count": 13,
      "outputs": [
        {
          "output_type": "stream",
          "name": "stdout",
          "text": [
            "+--------+----------+------+-----------------+\n",
            "|    Name|Department|Salary|Salary with Bonus|\n",
            "+--------+----------+------+-----------------+\n",
            "|   Alice|     Sales|  1000|           1300.0|\n",
            "|     Bob|     Sales|  1500|           1950.0|\n",
            "| Charlie|        HR|  1200|           1560.0|\n",
            "|   David|        HR|   800|           1040.0|\n",
            "|     Eve|        IT|  2000|           2600.0|\n",
            "|   Frank|        IT|  2200|           2860.0|\n",
            "|     Jim|       ATA|  1300|           1690.0|\n",
            "|  Millie|   Finance|  2300|           2990.0|\n",
            "|Samantha|     Sales|  1000|           1300.0|\n",
            "+--------+----------+------+-----------------+\n",
            "\n"
          ]
        }
      ]
    },
    {
      "cell_type": "markdown",
      "source": [],
      "metadata": {
        "id": "2bPH2GqLeVXh"
      }
    },
    {
      "cell_type": "code",
      "source": [
        "employees_with_bonus_df.write.mode(\"overwrite\").format(\"csv\").save(\"sample_data/employees.csv\", header=True)"
      ],
      "metadata": {
        "id": "xEtQpHZGdyMp"
      },
      "execution_count": 18,
      "outputs": []
    },
    {
      "cell_type": "code",
      "source": [
        "employees_with_bonus_df_r = spark.read.option(\"header\", \"true\").csv(\"sample_data/employees.csv\")\n",
        "employees_with_bonus_df_r.show()"
      ],
      "metadata": {
        "colab": {
          "base_uri": "https://localhost:8080/"
        },
        "id": "k6UAiyd0f-7a",
        "outputId": "7c4f48ba-80d1-49cc-dec8-9544ceb5a38d"
      },
      "execution_count": 21,
      "outputs": [
        {
          "output_type": "stream",
          "name": "stdout",
          "text": [
            "+--------+----------+------+-----------------+\n",
            "|    Name|Department|Salary|Salary with Bonus|\n",
            "+--------+----------+------+-----------------+\n",
            "|     Eve|        IT|  2000|           2600.0|\n",
            "|   Frank|        IT|  2200|           2860.0|\n",
            "|     Jim|       ATA|  1300|           1690.0|\n",
            "|  Millie|   Finance|  2300|           2990.0|\n",
            "|Samantha|     Sales|  1000|           1300.0|\n",
            "|   Alice|     Sales|  1000|           1300.0|\n",
            "|     Bob|     Sales|  1500|           1950.0|\n",
            "| Charlie|        HR|  1200|           1560.0|\n",
            "|   David|        HR|   800|           1040.0|\n",
            "+--------+----------+------+-----------------+\n",
            "\n"
          ]
        }
      ]
    },
    {
      "cell_type": "code",
      "source": [
        "dept_data = [\n",
        "    (\"Sales\", \"New York\"),\n",
        "    (\"HR\", \"San Francisco\"),\n",
        "    (\"IT\", \"Seattle\"),\n",
        "    (\"Entertainment\", \"Boston\"),\n",
        "    (\"Schmoozing\", \"London\")\n",
        "]"
      ],
      "metadata": {
        "id": "EaY44DeJhuSq"
      },
      "execution_count": 23,
      "outputs": []
    },
    {
      "cell_type": "code",
      "source": [
        "dept_columns = ['Department', 'City']\n",
        "\n",
        "dept_df = spark.createDataFrame(data=dept_data, schema=dept_columns)\n",
        "dept_df.show(2)"
      ],
      "metadata": {
        "colab": {
          "base_uri": "https://localhost:8080/"
        },
        "id": "ECiqzlXUidjx",
        "outputId": "c2b36bb3-a158-4325-975a-436ef8cccb74"
      },
      "execution_count": 24,
      "outputs": [
        {
          "output_type": "stream",
          "name": "stdout",
          "text": [
            "+----------+-------------+\n",
            "|Department|         City|\n",
            "+----------+-------------+\n",
            "|     Sales|     New York|\n",
            "|        HR|San Francisco|\n",
            "+----------+-------------+\n",
            "only showing top 2 rows\n",
            "\n"
          ]
        }
      ]
    },
    {
      "cell_type": "code",
      "source": [
        "inner_join_df = employees_with_bonus_df_r.join(dept_df, on='Department', how='inner')\n",
        "inner_join_df.show()"
      ],
      "metadata": {
        "colab": {
          "base_uri": "https://localhost:8080/"
        },
        "id": "j3yVuNmFjIIC",
        "outputId": "d50ec587-c53c-4cd7-ed8e-ff93564c894c"
      },
      "execution_count": 26,
      "outputs": [
        {
          "output_type": "stream",
          "name": "stdout",
          "text": [
            "+----------+--------+------+-----------------+-------------+\n",
            "|Department|    Name|Salary|Salary with Bonus|         City|\n",
            "+----------+--------+------+-----------------+-------------+\n",
            "|     Sales|     Bob|  1500|           1950.0|     New York|\n",
            "|     Sales|   Alice|  1000|           1300.0|     New York|\n",
            "|     Sales|Samantha|  1000|           1300.0|     New York|\n",
            "|        HR|   David|   800|           1040.0|San Francisco|\n",
            "|        HR| Charlie|  1200|           1560.0|San Francisco|\n",
            "|        IT|   Frank|  2200|           2860.0|      Seattle|\n",
            "|        IT|     Eve|  2000|           2600.0|      Seattle|\n",
            "+----------+--------+------+-----------------+-------------+\n",
            "\n"
          ]
        }
      ]
    },
    {
      "cell_type": "markdown",
      "source": [
        "\"\"\"\n",
        "[\n",
        "    (\"1\", \"Apple\", \"Large\", \"green\"),\n",
        "    (\"2\", \"Apple\", \"Large\", \"yellow\"),\n",
        "    (\"3\", \"Apple\", \"Large\", \"red\"),\n",
        "    (\"4\", \"Apple\", \"small\", \"red\"),\n",
        "    (\"5\", \"Apple\", \"small\", \"green\"),\n",
        "    (\"6\", \"Apple\", \"Large\", \"red\"),\n",
        "    (\"7\", \"Apple\", \"small\", \"yellow\")\n",
        "]\n",
        "\n",
        "\n",
        "Using pyspark write a simple application that reads above data into a dataframe (structure above).\n",
        "\n",
        "Columns after loading should be (id, fruit, size, colour)\n",
        "\n",
        "- Add an extra column \"test_apple\" which is a boolean flag. If apple is small and red set it to 1, otherwise to 0\n",
        "- remove any duplicates from the data\n",
        "- filter out all rows where test_apple is set to 0\n",
        "- save data locally to a json format\n",
        "\n",
        "\"\"\"\n",
        ""
      ],
      "metadata": {
        "id": "oxq47GDkwqQc"
      }
    },
    {
      "cell_type": "code",
      "source": [
        "fruit_dat = [\n",
        "    (\"1\", \"Apple\", \"Large\", \"green\"),\n",
        "    (\"2\", \"Apple\", \"Large\", \"yellow\"),\n",
        "    (\"3\", \"Apple\", \"Large\", \"red\"),\n",
        "    (\"4\", \"Apple\", \"small\", \"red\"),\n",
        "    (\"5\", \"Apple\", \"small\", \"green\"),\n",
        "    (\"6\", \"Apple\", \"Large\", \"red\"),\n",
        "    (\"7\", \"Apple\", \"small\", \"yellow\")\n",
        "]\n",
        "fruit_columns = ['id', 'fruit', 'size', 'colour']"
      ],
      "metadata": {
        "id": "gu0LxkuNpDRD"
      },
      "execution_count": 30,
      "outputs": []
    },
    {
      "cell_type": "code",
      "source": [
        "fruit_df = spark.createDataFrame(data=fruit_dat, schema=fruit_columns)\n",
        "fruit_df.show()"
      ],
      "metadata": {
        "colab": {
          "base_uri": "https://localhost:8080/"
        },
        "id": "_rPAHIIRpOiL",
        "outputId": "d07ab437-47fd-4b02-8a02-b8124224182a"
      },
      "execution_count": 34,
      "outputs": [
        {
          "output_type": "stream",
          "name": "stdout",
          "text": [
            "+---+-----+-----+------+\n",
            "| id|fruit| size|colour|\n",
            "+---+-----+-----+------+\n",
            "|  1|Apple|Large| green|\n",
            "|  2|Apple|Large|yellow|\n",
            "|  3|Apple|Large|   red|\n",
            "|  4|Apple|small|   red|\n",
            "|  5|Apple|small| green|\n",
            "|  6|Apple|Large|   red|\n",
            "|  7|Apple|small|yellow|\n",
            "+---+-----+-----+------+\n",
            "\n"
          ]
        }
      ]
    },
    {
      "cell_type": "code",
      "source": [
        "red_col = fruit_df['colour']=='red'\n",
        "small_col = fruit_df['size']=='small'\n",
        "red_col"
      ],
      "metadata": {
        "colab": {
          "base_uri": "https://localhost:8080/"
        },
        "id": "pAEgaHUerm-T",
        "outputId": "f05d8c46-9e4f-4914-f7e1-e622cf0c160d"
      },
      "execution_count": 47,
      "outputs": [
        {
          "output_type": "execute_result",
          "data": {
            "text/plain": [
              "Column<'(colour = red)'>"
            ]
          },
          "metadata": {},
          "execution_count": 47
        }
      ]
    },
    {
      "cell_type": "code",
      "source": [
        "fruit_bool_df = fruit_df.withColumn(\"test_apple\", when(red_col & small_col, 1).otherwise(0))\n",
        "# TODO: standardize `fruit`, and add extra condition\n",
        "fruit_bool_df.show()"
      ],
      "metadata": {
        "colab": {
          "base_uri": "https://localhost:8080/"
        },
        "id": "ZBuSZNOGprHk",
        "outputId": "01537c3b-5597-478c-e406-00febe141c79"
      },
      "execution_count": 41,
      "outputs": [
        {
          "output_type": "stream",
          "name": "stdout",
          "text": [
            "+---+-----+-----+------+----------+\n",
            "| id|fruit| size|colour|test_apple|\n",
            "+---+-----+-----+------+----------+\n",
            "|  1|Apple|Large| green|     false|\n",
            "|  2|Apple|Large|yellow|     false|\n",
            "|  3|Apple|Large|   red|     false|\n",
            "|  4|Apple|small|   red|      true|\n",
            "|  5|Apple|small| green|     false|\n",
            "|  6|Apple|Large|   red|     false|\n",
            "|  7|Apple|small|yellow|     false|\n",
            "+---+-----+-----+------+----------+\n",
            "\n"
          ]
        }
      ]
    },
    {
      "cell_type": "code",
      "source": [
        "fruit_drop_na = fruit_bool_df.drop_duplicates()\n",
        "fruit_drop_na.show()\n",
        "# |  6|Apple|Large|   red|     false| dropped"
      ],
      "metadata": {
        "colab": {
          "base_uri": "https://localhost:8080/"
        },
        "id": "-U_1MRtdsk7j",
        "outputId": "c25eb6cd-783d-4e12-9675-69e44c61083e"
      },
      "execution_count": 42,
      "outputs": [
        {
          "output_type": "stream",
          "name": "stdout",
          "text": [
            "+---+-----+-----+------+----------+\n",
            "| id|fruit| size|colour|test_apple|\n",
            "+---+-----+-----+------+----------+\n",
            "|  1|Apple|Large| green|     false|\n",
            "|  3|Apple|Large|   red|     false|\n",
            "|  2|Apple|Large|yellow|     false|\n",
            "|  5|Apple|small| green|     false|\n",
            "|  7|Apple|small|yellow|     false|\n",
            "|  4|Apple|small|   red|      true|\n",
            "|  6|Apple|Large|   red|     false|\n",
            "+---+-----+-----+------+----------+\n",
            "\n"
          ]
        }
      ]
    },
    {
      "cell_type": "code",
      "source": [
        "fruit_filtered = fruit_drop_na.filter(~(fruit_drop_na['test_apple']==0))\n",
        "fruit_filtered.show()"
      ],
      "metadata": {
        "colab": {
          "base_uri": "https://localhost:8080/"
        },
        "id": "EZx-SqDztHVl",
        "outputId": "9872bf0c-690e-4e40-dc54-e7cd7ea71a9c"
      },
      "execution_count": 43,
      "outputs": [
        {
          "output_type": "stream",
          "name": "stdout",
          "text": [
            "+---+-----+-----+------+----------+\n",
            "| id|fruit| size|colour|test_apple|\n",
            "+---+-----+-----+------+----------+\n",
            "|  4|Apple|small|   red|      true|\n",
            "+---+-----+-----+------+----------+\n",
            "\n"
          ]
        }
      ]
    },
    {
      "cell_type": "code",
      "source": [
        "fruit_filtered.write.json(\"sample_data/fruits_cleaned.json\")"
      ],
      "metadata": {
        "id": "eljIoYrEtesE"
      },
      "execution_count": 44,
      "outputs": []
    },
    {
      "cell_type": "code",
      "source": [
        "class PySparkWrapperForDummies:\n",
        "\n",
        "  def __init__(self, spark_instance) -> None:\n",
        "    self.spark=spark_instance\n",
        "\n",
        "\n",
        "  def create_df(self, data:list[tuple], schema:list):\n",
        "    self.spark.createDataFrame(data=data, schema = schema)\n"
      ],
      "metadata": {
        "id": "GljKN8utuUbj"
      },
      "execution_count": null,
      "outputs": []
    }
  ]
}